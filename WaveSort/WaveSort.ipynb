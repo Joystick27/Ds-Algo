{
  "nbformat": 4,
  "nbformat_minor": 0,
  "metadata": {
    "colab": {
      "name": "Rough.ipynb",
      "provenance": []
    },
    "kernelspec": {
      "name": "python3",
      "display_name": "Python 3"
    }
  },
  "cells": [
    {
      "cell_type": "markdown",
      "metadata": {
        "id": "XQgjoie-qHtc",
        "colab_type": "text"
      },
      "source": [
        "@author: Joystick\n",
        "\n",
        "\n",
        "---\n",
        "\n",
        "\n",
        "\n",
        "*\t**Problem Statement**: Wave sort a given array.\n",
        "        \n",
        "*\t**Time Complexity**: O(n)\n",
        "\n",
        "*\t**Space Complexity**: O(1)"
      ]
    },
    {
      "cell_type": "code",
      "metadata": {
        "id": "bP-fESr7He0w",
        "colab_type": "code",
        "colab": {}
      },
      "source": [
        "def waveSort(a):\n",
        "    n = len(a)\n",
        "    for i in range(0, n-1, 2):\n",
        "\n",
        "        if i > 0 and a[i-1] > a[i]:\n",
        "            a[i], a[i-1] = a[i-1], a[i]\n",
        "            \n",
        "        if i <= n-2 and a[i+1] > a[i]:\n",
        "            a[i], a[i+1] = a[i+1], a[i]\n",
        "    return arr\n",
        "\n"
      ],
      "execution_count": 0,
      "outputs": []
    },
    {
      "cell_type": "code",
      "metadata": {
        "id": "pQZvUDyUzK5x",
        "colab_type": "code",
        "outputId": "57bdf742-3575-4be4-b57b-b3bd0793cb27",
        "colab": {
          "base_uri": "https://localhost:8080/",
          "height": 35
        }
      },
      "source": [
        "arr = [1, 3, 4, 2, 7, 8]\n",
        "print(waveSort(arr))"
      ],
      "execution_count": 0,
      "outputs": [
        {
          "output_type": "stream",
          "text": [
            "[3, 1, 4, 2, 8, 7]\n"
          ],
          "name": "stdout"
        }
      ]
    }
  ]
}