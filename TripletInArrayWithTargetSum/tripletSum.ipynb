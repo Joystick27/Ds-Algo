{
  "nbformat": 4,
  "nbformat_minor": 0,
  "metadata": {
    "colab": {
      "name": "Rough.ipynb",
      "provenance": []
    },
    "kernelspec": {
      "name": "python3",
      "display_name": "Python 3"
    }
  },
  "cells": [
    {
      "cell_type": "code",
      "metadata": {
        "id": "qFCaqBkVfnLk",
        "colab_type": "code",
        "colab": {}
      },
      "source": [
        "def trip(arr, target):\n",
        "    d = dict()\n",
        "    n = len(arr)\n",
        "    for i in arr:\n",
        "        d[i] = 1\n",
        "    i = 0\n",
        "    j = n - 1\n",
        "    while i<j:\n",
        "        s = arr[i] + arr[j]\n",
        "        diff = target - s\n",
        "        if arr[i] != diff and arr[j] != diff and diff in d:\n",
        "            return [arr[i], arr[j], diff]\n",
        "        else:\n",
        "            if s > target:\n",
        "                j -= 1\n",
        "            elif s == target:\n",
        "                if arr[i+1] + arr[j] < target:\n",
        "                    i+=1\n",
        "                else:\n",
        "                    j-=1\n",
        "            else:\n",
        "                i += 1\n",
        "                \n",
        "    return [None]\n",
        "        "
      ],
      "execution_count": 0,
      "outputs": []
    },
    {
      "cell_type": "code",
      "metadata": {
        "id": "Z6iIwbC4nzzs",
        "colab_type": "code",
        "outputId": "87cb468c-e05b-400b-ebfb-10bb1a05e156",
        "colab": {
          "base_uri": "https://localhost:8080/",
          "height": 104
        }
      },
      "source": [
        "arr = [1, 2, 4, 6, 8, 10, 12]\n",
        "target = 14\n",
        "print(trip(arr, target))\n",
        "\n",
        "arr = [-2, -1, 4, 8, 10, 12]\n",
        "target = 14\n",
        "print(trip(arr, target))\n",
        "\n",
        "arr = [1, 2, 4, 6, 8, 10, 12]\n",
        "target = 13\n",
        "print(trip(arr, target))\n",
        "\n",
        "arr = [-2, -1, 4, 8, 11, 12]\n",
        "target = 13\n",
        "print(trip(arr, target))\n",
        "\n",
        "arr = [-2, -1, 4, 8, 15, 17]\n",
        "target = 11\n",
        "print(trip(arr, target))"
      ],
      "execution_count": 42,
      "outputs": [
        {
          "output_type": "stream",
          "text": [
            "[4, 8, 2]\n",
            "[-2, 12, 4]\n",
            "[1, 10, 2]\n",
            "[4, 11, -2]\n",
            "[-1, 8, 4]\n"
          ],
          "name": "stdout"
        }
      ]
    }
  ]
}